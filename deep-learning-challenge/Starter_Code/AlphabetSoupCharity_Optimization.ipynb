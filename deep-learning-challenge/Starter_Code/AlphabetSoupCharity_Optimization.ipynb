{
 "cells": [
  {
   "cell_type": "markdown",
   "metadata": {},
   "source": [
    "## Preprocessing"
   ]
  },
  {
   "cell_type": "code",
   "execution_count": 129,
   "metadata": {},
   "outputs": [
    {
     "data": {
      "text/html": [
       "<div>\n",
       "<style scoped>\n",
       "    .dataframe tbody tr th:only-of-type {\n",
       "        vertical-align: middle;\n",
       "    }\n",
       "\n",
       "    .dataframe tbody tr th {\n",
       "        vertical-align: top;\n",
       "    }\n",
       "\n",
       "    .dataframe thead th {\n",
       "        text-align: right;\n",
       "    }\n",
       "</style>\n",
       "<table border=\"1\" class=\"dataframe\">\n",
       "  <thead>\n",
       "    <tr style=\"text-align: right;\">\n",
       "      <th></th>\n",
       "      <th>EIN</th>\n",
       "      <th>NAME</th>\n",
       "      <th>APPLICATION_TYPE</th>\n",
       "      <th>AFFILIATION</th>\n",
       "      <th>CLASSIFICATION</th>\n",
       "      <th>USE_CASE</th>\n",
       "      <th>ORGANIZATION</th>\n",
       "      <th>STATUS</th>\n",
       "      <th>INCOME_AMT</th>\n",
       "      <th>SPECIAL_CONSIDERATIONS</th>\n",
       "      <th>ASK_AMT</th>\n",
       "      <th>IS_SUCCESSFUL</th>\n",
       "    </tr>\n",
       "  </thead>\n",
       "  <tbody>\n",
       "    <tr>\n",
       "      <th>0</th>\n",
       "      <td>10520599</td>\n",
       "      <td>BLUE KNIGHTS MOTORCYCLE CLUB</td>\n",
       "      <td>T10</td>\n",
       "      <td>Independent</td>\n",
       "      <td>C1000</td>\n",
       "      <td>ProductDev</td>\n",
       "      <td>Association</td>\n",
       "      <td>1</td>\n",
       "      <td>0</td>\n",
       "      <td>N</td>\n",
       "      <td>5000</td>\n",
       "      <td>1</td>\n",
       "    </tr>\n",
       "    <tr>\n",
       "      <th>1</th>\n",
       "      <td>10531628</td>\n",
       "      <td>AMERICAN CHESAPEAKE CLUB CHARITABLE TR</td>\n",
       "      <td>T3</td>\n",
       "      <td>Independent</td>\n",
       "      <td>C2000</td>\n",
       "      <td>Preservation</td>\n",
       "      <td>Co-operative</td>\n",
       "      <td>1</td>\n",
       "      <td>1-9999</td>\n",
       "      <td>N</td>\n",
       "      <td>108590</td>\n",
       "      <td>1</td>\n",
       "    </tr>\n",
       "    <tr>\n",
       "      <th>2</th>\n",
       "      <td>10547893</td>\n",
       "      <td>ST CLOUD PROFESSIONAL FIREFIGHTERS</td>\n",
       "      <td>T5</td>\n",
       "      <td>CompanySponsored</td>\n",
       "      <td>C3000</td>\n",
       "      <td>ProductDev</td>\n",
       "      <td>Association</td>\n",
       "      <td>1</td>\n",
       "      <td>0</td>\n",
       "      <td>N</td>\n",
       "      <td>5000</td>\n",
       "      <td>0</td>\n",
       "    </tr>\n",
       "    <tr>\n",
       "      <th>3</th>\n",
       "      <td>10553066</td>\n",
       "      <td>SOUTHSIDE ATHLETIC ASSOCIATION</td>\n",
       "      <td>T3</td>\n",
       "      <td>CompanySponsored</td>\n",
       "      <td>C2000</td>\n",
       "      <td>Preservation</td>\n",
       "      <td>Trust</td>\n",
       "      <td>1</td>\n",
       "      <td>10000-24999</td>\n",
       "      <td>N</td>\n",
       "      <td>6692</td>\n",
       "      <td>1</td>\n",
       "    </tr>\n",
       "    <tr>\n",
       "      <th>4</th>\n",
       "      <td>10556103</td>\n",
       "      <td>GENETIC RESEARCH INSTITUTE OF THE DESERT</td>\n",
       "      <td>T3</td>\n",
       "      <td>Independent</td>\n",
       "      <td>C1000</td>\n",
       "      <td>Heathcare</td>\n",
       "      <td>Trust</td>\n",
       "      <td>1</td>\n",
       "      <td>100000-499999</td>\n",
       "      <td>N</td>\n",
       "      <td>142590</td>\n",
       "      <td>1</td>\n",
       "    </tr>\n",
       "  </tbody>\n",
       "</table>\n",
       "</div>"
      ],
      "text/plain": [
       "        EIN                                      NAME APPLICATION_TYPE  \\\n",
       "0  10520599              BLUE KNIGHTS MOTORCYCLE CLUB              T10   \n",
       "1  10531628    AMERICAN CHESAPEAKE CLUB CHARITABLE TR               T3   \n",
       "2  10547893        ST CLOUD PROFESSIONAL FIREFIGHTERS               T5   \n",
       "3  10553066            SOUTHSIDE ATHLETIC ASSOCIATION               T3   \n",
       "4  10556103  GENETIC RESEARCH INSTITUTE OF THE DESERT               T3   \n",
       "\n",
       "        AFFILIATION CLASSIFICATION      USE_CASE  ORGANIZATION  STATUS  \\\n",
       "0       Independent          C1000    ProductDev   Association       1   \n",
       "1       Independent          C2000  Preservation  Co-operative       1   \n",
       "2  CompanySponsored          C3000    ProductDev   Association       1   \n",
       "3  CompanySponsored          C2000  Preservation         Trust       1   \n",
       "4       Independent          C1000     Heathcare         Trust       1   \n",
       "\n",
       "      INCOME_AMT SPECIAL_CONSIDERATIONS  ASK_AMT  IS_SUCCESSFUL  \n",
       "0              0                      N     5000              1  \n",
       "1         1-9999                      N   108590              1  \n",
       "2              0                      N     5000              0  \n",
       "3    10000-24999                      N     6692              1  \n",
       "4  100000-499999                      N   142590              1  "
      ]
     },
     "execution_count": 129,
     "metadata": {},
     "output_type": "execute_result"
    }
   ],
   "source": [
    "# Import our dependencies\n",
    "from sklearn.model_selection import train_test_split\n",
    "from sklearn.preprocessing import StandardScaler\n",
    "import pandas as pd\n",
    "import tensorflow as tf\n",
    "\n",
    "#  Import and read the charity_data.csv.\n",
    "import pandas as pd \n",
    "application_df = pd.read_csv(\"https://static.bc-edx.com/data/dl-1-2/m21/lms/starter/charity_data.csv\")\n",
    "application_df.head()"
   ]
  },
  {
   "cell_type": "code",
   "execution_count": 130,
   "metadata": {},
   "outputs": [
    {
     "data": {
      "text/html": [
       "<div>\n",
       "<style scoped>\n",
       "    .dataframe tbody tr th:only-of-type {\n",
       "        vertical-align: middle;\n",
       "    }\n",
       "\n",
       "    .dataframe tbody tr th {\n",
       "        vertical-align: top;\n",
       "    }\n",
       "\n",
       "    .dataframe thead th {\n",
       "        text-align: right;\n",
       "    }\n",
       "</style>\n",
       "<table border=\"1\" class=\"dataframe\">\n",
       "  <thead>\n",
       "    <tr style=\"text-align: right;\">\n",
       "      <th></th>\n",
       "      <th>APPLICATION_TYPE</th>\n",
       "      <th>AFFILIATION</th>\n",
       "      <th>CLASSIFICATION</th>\n",
       "      <th>USE_CASE</th>\n",
       "      <th>ORGANIZATION</th>\n",
       "      <th>STATUS</th>\n",
       "      <th>INCOME_AMT</th>\n",
       "      <th>SPECIAL_CONSIDERATIONS</th>\n",
       "      <th>ASK_AMT</th>\n",
       "      <th>IS_SUCCESSFUL</th>\n",
       "    </tr>\n",
       "  </thead>\n",
       "  <tbody>\n",
       "    <tr>\n",
       "      <th>0</th>\n",
       "      <td>T10</td>\n",
       "      <td>Independent</td>\n",
       "      <td>C1000</td>\n",
       "      <td>ProductDev</td>\n",
       "      <td>Association</td>\n",
       "      <td>1</td>\n",
       "      <td>0</td>\n",
       "      <td>N</td>\n",
       "      <td>5000</td>\n",
       "      <td>1</td>\n",
       "    </tr>\n",
       "    <tr>\n",
       "      <th>1</th>\n",
       "      <td>T3</td>\n",
       "      <td>Independent</td>\n",
       "      <td>C2000</td>\n",
       "      <td>Preservation</td>\n",
       "      <td>Co-operative</td>\n",
       "      <td>1</td>\n",
       "      <td>1-9999</td>\n",
       "      <td>N</td>\n",
       "      <td>108590</td>\n",
       "      <td>1</td>\n",
       "    </tr>\n",
       "    <tr>\n",
       "      <th>2</th>\n",
       "      <td>T5</td>\n",
       "      <td>CompanySponsored</td>\n",
       "      <td>C3000</td>\n",
       "      <td>ProductDev</td>\n",
       "      <td>Association</td>\n",
       "      <td>1</td>\n",
       "      <td>0</td>\n",
       "      <td>N</td>\n",
       "      <td>5000</td>\n",
       "      <td>0</td>\n",
       "    </tr>\n",
       "    <tr>\n",
       "      <th>3</th>\n",
       "      <td>T3</td>\n",
       "      <td>CompanySponsored</td>\n",
       "      <td>C2000</td>\n",
       "      <td>Preservation</td>\n",
       "      <td>Trust</td>\n",
       "      <td>1</td>\n",
       "      <td>10000-24999</td>\n",
       "      <td>N</td>\n",
       "      <td>6692</td>\n",
       "      <td>1</td>\n",
       "    </tr>\n",
       "    <tr>\n",
       "      <th>4</th>\n",
       "      <td>T3</td>\n",
       "      <td>Independent</td>\n",
       "      <td>C1000</td>\n",
       "      <td>Heathcare</td>\n",
       "      <td>Trust</td>\n",
       "      <td>1</td>\n",
       "      <td>100000-499999</td>\n",
       "      <td>N</td>\n",
       "      <td>142590</td>\n",
       "      <td>1</td>\n",
       "    </tr>\n",
       "  </tbody>\n",
       "</table>\n",
       "</div>"
      ],
      "text/plain": [
       "  APPLICATION_TYPE       AFFILIATION CLASSIFICATION      USE_CASE  \\\n",
       "0              T10       Independent          C1000    ProductDev   \n",
       "1               T3       Independent          C2000  Preservation   \n",
       "2               T5  CompanySponsored          C3000    ProductDev   \n",
       "3               T3  CompanySponsored          C2000  Preservation   \n",
       "4               T3       Independent          C1000     Heathcare   \n",
       "\n",
       "   ORGANIZATION  STATUS     INCOME_AMT SPECIAL_CONSIDERATIONS  ASK_AMT  \\\n",
       "0   Association       1              0                      N     5000   \n",
       "1  Co-operative       1         1-9999                      N   108590   \n",
       "2   Association       1              0                      N     5000   \n",
       "3         Trust       1    10000-24999                      N     6692   \n",
       "4         Trust       1  100000-499999                      N   142590   \n",
       "\n",
       "   IS_SUCCESSFUL  \n",
       "0              1  \n",
       "1              1  \n",
       "2              0  \n",
       "3              1  \n",
       "4              1  "
      ]
     },
     "execution_count": 130,
     "metadata": {},
     "output_type": "execute_result"
    }
   ],
   "source": [
    "# Drop the non-beneficial ID columns, 'EIN' and 'NAME'.\n",
    "application_df = application_df.drop(['EIN', 'NAME'], axis=1)\n",
    "application_df.head()"
   ]
  },
  {
   "cell_type": "code",
   "execution_count": 131,
   "metadata": {},
   "outputs": [
    {
     "name": "stdout",
     "output_type": "stream",
     "text": [
      "APPLICATION_TYPE            17\n",
      "AFFILIATION                  6\n",
      "CLASSIFICATION              71\n",
      "USE_CASE                     5\n",
      "ORGANIZATION                 4\n",
      "STATUS                       2\n",
      "INCOME_AMT                   9\n",
      "SPECIAL_CONSIDERATIONS       2\n",
      "ASK_AMT                   8747\n",
      "IS_SUCCESSFUL                2\n",
      "dtype: int64\n"
     ]
    }
   ],
   "source": [
    "# Determine the number of unique values in each column.\n",
    "unique_value_counts = application_df.nunique()\n",
    "print(unique_value_counts)"
   ]
  },
  {
   "cell_type": "code",
   "execution_count": 132,
   "metadata": {},
   "outputs": [
    {
     "name": "stdout",
     "output_type": "stream",
     "text": [
      "T3     27037\n",
      "T4      1542\n",
      "T6      1216\n",
      "T5      1173\n",
      "T19     1065\n",
      "T8       737\n",
      "T7       725\n",
      "T10      528\n",
      "T9       156\n",
      "T13       66\n",
      "T12       27\n",
      "T2        16\n",
      "T25        3\n",
      "T14        3\n",
      "T29        2\n",
      "T15        2\n",
      "T17        1\n",
      "Name: APPLICATION_TYPE, dtype: int64\n"
     ]
    }
   ],
   "source": [
    "# Look at APPLICATION_TYPE value counts for binning\n",
    "application_type_counts = application_df['APPLICATION_TYPE'].value_counts()\n",
    "print(application_type_counts)"
   ]
  },
  {
   "cell_type": "code",
   "execution_count": 133,
   "metadata": {},
   "outputs": [
    {
     "name": "stdout",
     "output_type": "stream",
     "text": [
      "T3       27037\n",
      "T4        1542\n",
      "T6        1216\n",
      "T5        1173\n",
      "T19       1065\n",
      "T8         737\n",
      "T7         725\n",
      "T10        528\n",
      "T9         156\n",
      "Other      120\n",
      "Name: APPLICATION_TYPE, dtype: int64\n"
     ]
    }
   ],
   "source": [
    "# Choose a cutoff value for the number of occurrences\n",
    "cutoff_value = 100\n",
    "\n",
    "# Get the value counts of the 'APPLICATION_TYPE' column\n",
    "application_type_counts = application_df['APPLICATION_TYPE'].value_counts()\n",
    "\n",
    "# Create a list of application types to be replaced with 'Other'\n",
    "application_types_to_replace = application_type_counts[application_type_counts < cutoff_value].index.tolist()\n",
    "\n",
    "# Replace application types in the DataFrame\n",
    "for app in application_types_to_replace:\n",
    "    application_df['APPLICATION_TYPE'] = application_df['APPLICATION_TYPE'].replace(app, \"Other\")\n",
    "\n",
    "# Check to make sure binning was successful\n",
    "print(application_df['APPLICATION_TYPE'].value_counts())"
   ]
  },
  {
   "cell_type": "code",
   "execution_count": 134,
   "metadata": {},
   "outputs": [
    {
     "name": "stdout",
     "output_type": "stream",
     "text": [
      "C1000    17326\n",
      "C2000     6074\n",
      "C1200     4837\n",
      "C3000     1918\n",
      "C2100     1883\n",
      "         ...  \n",
      "C4120        1\n",
      "C8210        1\n",
      "C2561        1\n",
      "C4500        1\n",
      "C2150        1\n",
      "Name: CLASSIFICATION, Length: 71, dtype: int64\n"
     ]
    }
   ],
   "source": [
    "# Look at CLASSIFICATION value counts for binning\n",
    "classification_counts = application_df['CLASSIFICATION'].value_counts()\n",
    "print(classification_counts)"
   ]
  },
  {
   "cell_type": "code",
   "execution_count": 135,
   "metadata": {},
   "outputs": [
    {
     "name": "stdout",
     "output_type": "stream",
     "text": [
      "C1000    17326\n",
      "C2000     6074\n",
      "C1200     4837\n",
      "C3000     1918\n",
      "C2100     1883\n",
      "C7000      777\n",
      "C1700      287\n",
      "C4000      194\n",
      "C5000      116\n",
      "C1270      114\n",
      "C2700      104\n",
      "C2800       95\n",
      "C7100       75\n",
      "C1300       58\n",
      "C1280       50\n",
      "C1230       36\n",
      "C1400       34\n",
      "C7200       32\n",
      "C2300       32\n",
      "C1240       30\n",
      "C8000       20\n",
      "C7120       18\n",
      "C1500       16\n",
      "C1800       15\n",
      "C6000       15\n",
      "C1250       14\n",
      "C8200       11\n",
      "C1238       10\n",
      "C1278       10\n",
      "C1235        9\n",
      "C1237        9\n",
      "C7210        7\n",
      "C2400        6\n",
      "C1720        6\n",
      "C4100        6\n",
      "C1257        5\n",
      "C1600        5\n",
      "C1260        3\n",
      "C2710        3\n",
      "C0           3\n",
      "C3200        2\n",
      "C1234        2\n",
      "C1246        2\n",
      "C1267        2\n",
      "C1256        2\n",
      "Name: CLASSIFICATION, dtype: int64\n"
     ]
    }
   ],
   "source": [
    "# You may find it helpful to look at CLASSIFICATION value counts >1\n",
    "classification_counts = application_df['CLASSIFICATION'].value_counts()\n",
    "classification_counts_gt_1 = classification_counts[classification_counts > 1]\n",
    "print(classification_counts_gt_1)"
   ]
  },
  {
   "cell_type": "code",
   "execution_count": 136,
   "metadata": {},
   "outputs": [
    {
     "name": "stdout",
     "output_type": "stream",
     "text": [
      "C1000    17326\n",
      "C2000     6074\n",
      "C1200     4837\n",
      "C3000     1918\n",
      "C2100     1883\n",
      "C7000      777\n",
      "Other      669\n",
      "C1700      287\n",
      "C4000      194\n",
      "C5000      116\n",
      "C1270      114\n",
      "C2700      104\n",
      "Name: CLASSIFICATION, dtype: int64\n"
     ]
    }
   ],
   "source": [
    "# Choose a cutoff value for the number of occurrences\n",
    "cutoff_value = 100\n",
    "\n",
    "# Get the value counts of the 'CLASSIFICATION' column\n",
    "classification_counts = application_df['CLASSIFICATION'].value_counts()\n",
    "\n",
    "# Create a list of classifications to be replaced with 'Other'\n",
    "classifications_to_replace = classification_counts[classification_counts < cutoff_value].index.tolist()\n",
    "\n",
    "# Replace classifications in the DataFrame\n",
    "for cls in classifications_to_replace:\n",
    "    application_df['CLASSIFICATION'] = application_df['CLASSIFICATION'].replace(cls, \"Other\")\n",
    "\n",
    "# Check to make sure binning was successful\n",
    "print(application_df['CLASSIFICATION'].value_counts())"
   ]
  },
  {
   "cell_type": "code",
   "execution_count": 137,
   "metadata": {},
   "outputs": [
    {
     "name": "stdout",
     "output_type": "stream",
     "text": [
      "        AFFILIATION      USE_CASE  ORGANIZATION  STATUS     INCOME_AMT  \\\n",
      "0       Independent    ProductDev   Association       1              0   \n",
      "1       Independent  Preservation  Co-operative       1         1-9999   \n",
      "2  CompanySponsored    ProductDev   Association       1              0   \n",
      "3  CompanySponsored  Preservation         Trust       1    10000-24999   \n",
      "4       Independent     Heathcare         Trust       1  100000-499999   \n",
      "\n",
      "  SPECIAL_CONSIDERATIONS  ASK_AMT  IS_SUCCESSFUL  APPLICATION_TYPE_Other  \\\n",
      "0                      N     5000              1                       0   \n",
      "1                      N   108590              1                       0   \n",
      "2                      N     5000              0                       0   \n",
      "3                      N     6692              1                       0   \n",
      "4                      N   142590              1                       0   \n",
      "\n",
      "   APPLICATION_TYPE_T10  ...  CLASSIFICATION_C1270  CLASSIFICATION_C1700  \\\n",
      "0                     1  ...                     0                     0   \n",
      "1                     0  ...                     0                     0   \n",
      "2                     0  ...                     0                     0   \n",
      "3                     0  ...                     0                     0   \n",
      "4                     0  ...                     0                     0   \n",
      "\n",
      "   CLASSIFICATION_C2000  CLASSIFICATION_C2100  CLASSIFICATION_C2700  \\\n",
      "0                     0                     0                     0   \n",
      "1                     1                     0                     0   \n",
      "2                     0                     0                     0   \n",
      "3                     1                     0                     0   \n",
      "4                     0                     0                     0   \n",
      "\n",
      "   CLASSIFICATION_C3000  CLASSIFICATION_C4000  CLASSIFICATION_C5000  \\\n",
      "0                     0                     0                     0   \n",
      "1                     0                     0                     0   \n",
      "2                     1                     0                     0   \n",
      "3                     0                     0                     0   \n",
      "4                     0                     0                     0   \n",
      "\n",
      "   CLASSIFICATION_C7000  CLASSIFICATION_Other  \n",
      "0                     0                     0  \n",
      "1                     0                     0  \n",
      "2                     0                     0  \n",
      "3                     0                     0  \n",
      "4                     0                     0  \n",
      "\n",
      "[5 rows x 30 columns]\n"
     ]
    }
   ],
   "source": [
    "# Convert categorical data to numeric with `pd.get_dummies`\n",
    "categorical_columns = ['APPLICATION_TYPE', 'CLASSIFICATION']\n",
    "application_df = pd.get_dummies(application_df, columns=categorical_columns)\n",
    "print(application_df.head())"
   ]
  },
  {
   "cell_type": "code",
   "execution_count": 138,
   "metadata": {},
   "outputs": [
    {
     "name": "stdout",
     "output_type": "stream",
     "text": [
      "Shape of X_train: (27439, 29)\n",
      "Shape of X_test: (6860, 29)\n",
      "Shape of y_train: (27439,)\n",
      "Shape of y_test: (6860,)\n"
     ]
    }
   ],
   "source": [
    "# Split our preprocessed data into our features and target arrays\n",
    "X = application_df.drop('APPLICATION_TYPE_Other', axis=1)\n",
    "y = application_df['APPLICATION_TYPE_Other']\n",
    "\n",
    "# Split the preprocessed data into a training and testing dataset\n",
    "X_train_encoded, X_test_encoded, y_train, y_test = train_test_split(X, y, test_size=0.2, random_state=42)\n",
    "\n",
    "# Display the shape of the training and testing datasets\n",
    "print(\"Shape of X_train:\", X_train.shape)\n",
    "print(\"Shape of X_test:\", X_test.shape)\n",
    "print(\"Shape of y_train:\", y_train.shape)\n",
    "print(\"Shape of y_test:\", y_test.shape)"
   ]
  },
  {
   "cell_type": "code",
   "execution_count": 139,
   "metadata": {},
   "outputs": [
    {
     "name": "stdout",
     "output_type": "stream",
     "text": [
      "STATUS                          int64\n",
      "ASK_AMT                         int64\n",
      "IS_SUCCESSFUL                   int64\n",
      "APPLICATION_TYPE_T10            uint8\n",
      "APPLICATION_TYPE_T19            uint8\n",
      "APPLICATION_TYPE_T3             uint8\n",
      "APPLICATION_TYPE_T4             uint8\n",
      "APPLICATION_TYPE_T5             uint8\n",
      "APPLICATION_TYPE_T6             uint8\n",
      "APPLICATION_TYPE_T7             uint8\n",
      "APPLICATION_TYPE_T8             uint8\n",
      "APPLICATION_TYPE_T9             uint8\n",
      "CLASSIFICATION_C1000            uint8\n",
      "CLASSIFICATION_C1200            uint8\n",
      "CLASSIFICATION_C1270            uint8\n",
      "CLASSIFICATION_C1700            uint8\n",
      "CLASSIFICATION_C2000            uint8\n",
      "CLASSIFICATION_C2100            uint8\n",
      "CLASSIFICATION_C2700            uint8\n",
      "CLASSIFICATION_C3000            uint8\n",
      "CLASSIFICATION_C4000            uint8\n",
      "CLASSIFICATION_C5000            uint8\n",
      "CLASSIFICATION_C7000            uint8\n",
      "CLASSIFICATION_Other            uint8\n",
      "AFFILIATION_CompanySponsored    uint8\n",
      "AFFILIATION_Family/Parent       uint8\n",
      "AFFILIATION_Independent         uint8\n",
      "AFFILIATION_National            uint8\n",
      "AFFILIATION_Other               uint8\n",
      "AFFILIATION_Regional            uint8\n",
      "USE_CASE_CommunityServ          uint8\n",
      "USE_CASE_Heathcare              uint8\n",
      "USE_CASE_Other                  uint8\n",
      "USE_CASE_Preservation           uint8\n",
      "USE_CASE_ProductDev             uint8\n",
      "ORGANIZATION_Association        uint8\n",
      "ORGANIZATION_Co-operative       uint8\n",
      "ORGANIZATION_Corporation        uint8\n",
      "ORGANIZATION_Trust              uint8\n",
      "INCOME_AMT_0                    uint8\n",
      "INCOME_AMT_1-9999               uint8\n",
      "INCOME_AMT_10000-24999          uint8\n",
      "INCOME_AMT_100000-499999        uint8\n",
      "INCOME_AMT_10M-50M              uint8\n",
      "INCOME_AMT_1M-5M                uint8\n",
      "INCOME_AMT_25000-99999          uint8\n",
      "INCOME_AMT_50M+                 uint8\n",
      "INCOME_AMT_5M-10M               uint8\n",
      "SPECIAL_CONSIDERATIONS_N        uint8\n",
      "SPECIAL_CONSIDERATIONS_Y        uint8\n",
      "dtype: object\n"
     ]
    }
   ],
   "source": [
    "X_train_encoded = pd.get_dummies(X_train, columns=['AFFILIATION', 'USE_CASE', 'ORGANIZATION', 'INCOME_AMT', 'SPECIAL_CONSIDERATIONS'])\n",
    "print(X_train_encoded.dtypes)"
   ]
  },
  {
   "cell_type": "code",
   "execution_count": 140,
   "metadata": {},
   "outputs": [],
   "source": [
    "X_test_encoded = pd.get_dummies(X_test, columns=['AFFILIATION', 'USE_CASE', 'ORGANIZATION', 'INCOME_AMT', 'SPECIAL_CONSIDERATIONS'])"
   ]
  },
  {
   "cell_type": "code",
   "execution_count": 141,
   "metadata": {},
   "outputs": [],
   "source": [
    "all_data = pd.concat([X_train, X_test])"
   ]
  },
  {
   "cell_type": "code",
   "execution_count": 142,
   "metadata": {},
   "outputs": [],
   "source": [
    "all_data_encoded = pd.get_dummies(all_data, columns=['AFFILIATION', 'USE_CASE', 'ORGANIZATION', 'INCOME_AMT', 'SPECIAL_CONSIDERATIONS'])\n"
   ]
  },
  {
   "cell_type": "code",
   "execution_count": 143,
   "metadata": {},
   "outputs": [],
   "source": [
    "X_train_encoded = all_data_encoded[:len(X_train)]\n",
    "X_test_encoded = all_data_encoded[len(X_train):]"
   ]
  },
  {
   "cell_type": "code",
   "execution_count": 144,
   "metadata": {},
   "outputs": [],
   "source": [
    "# Create a StandardScaler instance\n",
    "scaler = StandardScaler()\n",
    "\n",
    "# Fit the scaler on the training data and transform the training data\n",
    "X_train_scaled = scaler.fit_transform(X_train_encoded)\n",
    "\n",
    "# Transform the testing data using the fitted scaler\n",
    "X_test_scaled = scaler.transform(X_test_encoded)"
   ]
  },
  {
   "cell_type": "markdown",
   "metadata": {},
   "source": [
    "## Compile, Train and Evaluate the Model"
   ]
  },
  {
   "cell_type": "code",
   "execution_count": 145,
   "metadata": {},
   "outputs": [
    {
     "name": "stdout",
     "output_type": "stream",
     "text": [
      "Model: \"sequential_3\"\n",
      "_________________________________________________________________\n",
      " Layer (type)                Output Shape              Param #   \n",
      "=================================================================\n",
      " dense_9 (Dense)             (None, 128)               6528      \n",
      "                                                                 \n",
      " dense_10 (Dense)            (None, 64)                8256      \n",
      "                                                                 \n",
      " dense_11 (Dense)            (None, 1)                 65        \n",
      "                                                                 \n",
      "=================================================================\n",
      "Total params: 14849 (58.00 KB)\n",
      "Trainable params: 14849 (58.00 KB)\n",
      "Non-trainable params: 0 (0.00 Byte)\n",
      "_________________________________________________________________\n"
     ]
    }
   ],
   "source": [
    "# Define the model - deep neural net\n",
    "nn = tf.keras.models.Sequential()\n",
    "\n",
    "# Number of input features (number of features in X_train_scaled)\n",
    "input_features = X_train_scaled.shape[1]\n",
    "\n",
    "# First hidden layer with 128 nodes and ReLU activation\n",
    "nn.add(tf.keras.layers.Dense(units=128, activation='relu', input_dim=input_features))\n",
    "\n",
    "# Second hidden layer with 64 nodes and ReLU activation\n",
    "nn.add(tf.keras.layers.Dense(units=64, activation='relu'))\n",
    "\n",
    "# Output layer with 1 node (for binary classification) and sigmoid activation\n",
    "nn.add(tf.keras.layers.Dense(units=1, activation='sigmoid'))\n",
    "\n",
    "# Check the structure of the model\n",
    "nn.summary()"
   ]
  },
  {
   "cell_type": "code",
   "execution_count": 146,
   "metadata": {},
   "outputs": [
    {
     "name": "stdout",
     "output_type": "stream",
     "text": [
      "Model: \"sequential_3\"\n",
      "_________________________________________________________________\n",
      " Layer (type)                Output Shape              Param #   \n",
      "=================================================================\n",
      " dense_9 (Dense)             (None, 128)               6528      \n",
      "                                                                 \n",
      " dense_10 (Dense)            (None, 64)                8256      \n",
      "                                                                 \n",
      " dense_11 (Dense)            (None, 1)                 65        \n",
      "                                                                 \n",
      "=================================================================\n",
      "Total params: 14849 (58.00 KB)\n",
      "Trainable params: 14849 (58.00 KB)\n",
      "Non-trainable params: 0 (0.00 Byte)\n",
      "_________________________________________________________________\n",
      "None\n"
     ]
    }
   ],
   "source": [
    "# Compile the model\n",
    "nn.compile(loss='binary_crossentropy', optimizer='adam', metrics=['accuracy'])\n",
    "print(nn.summary())"
   ]
  },
  {
   "cell_type": "code",
   "execution_count": 147,
   "metadata": {},
   "outputs": [
    {
     "name": "stdout",
     "output_type": "stream",
     "text": [
      "Epoch 1/50\n",
      "343/343 [==============================] - 1s 1ms/step - loss: 0.0295 - accuracy: 0.9940 - val_loss: 0.0033 - val_accuracy: 0.9984\n",
      "Epoch 2/50\n",
      "343/343 [==============================] - 0s 901us/step - loss: 0.0021 - accuracy: 0.9995 - val_loss: 5.0869e-04 - val_accuracy: 1.0000\n",
      "Epoch 3/50\n",
      "343/343 [==============================] - 0s 901us/step - loss: 3.1281e-04 - accuracy: 1.0000 - val_loss: 1.3813e-04 - val_accuracy: 1.0000\n",
      "Epoch 4/50\n",
      "343/343 [==============================] - 0s 901us/step - loss: 1.0718e-04 - accuracy: 1.0000 - val_loss: 6.8195e-05 - val_accuracy: 1.0000\n",
      "Epoch 5/50\n",
      "343/343 [==============================] - 0s 912us/step - loss: 5.4959e-05 - accuracy: 1.0000 - val_loss: 4.1378e-05 - val_accuracy: 1.0000\n",
      "Epoch 6/50\n",
      "343/343 [==============================] - 0s 927us/step - loss: 3.3091e-05 - accuracy: 1.0000 - val_loss: 2.5743e-05 - val_accuracy: 1.0000\n",
      "Epoch 7/50\n",
      "343/343 [==============================] - 0s 921us/step - loss: 2.1596e-05 - accuracy: 1.0000 - val_loss: 1.7709e-05 - val_accuracy: 1.0000\n",
      "Epoch 8/50\n",
      "343/343 [==============================] - 0s 913us/step - loss: 1.4873e-05 - accuracy: 1.0000 - val_loss: 1.3085e-05 - val_accuracy: 1.0000\n",
      "Epoch 9/50\n",
      "343/343 [==============================] - 0s 895us/step - loss: 1.0620e-05 - accuracy: 1.0000 - val_loss: 9.6230e-06 - val_accuracy: 1.0000\n",
      "Epoch 10/50\n",
      "343/343 [==============================] - 0s 904us/step - loss: 7.7951e-06 - accuracy: 1.0000 - val_loss: 7.2294e-06 - val_accuracy: 1.0000\n",
      "Epoch 11/50\n",
      "343/343 [==============================] - 0s 889us/step - loss: 5.8789e-06 - accuracy: 1.0000 - val_loss: 5.6322e-06 - val_accuracy: 1.0000\n",
      "Epoch 12/50\n",
      "343/343 [==============================] - 0s 950us/step - loss: 4.4762e-06 - accuracy: 1.0000 - val_loss: 4.4376e-06 - val_accuracy: 1.0000\n",
      "Epoch 13/50\n",
      "343/343 [==============================] - 0s 939us/step - loss: 3.4637e-06 - accuracy: 1.0000 - val_loss: 3.4544e-06 - val_accuracy: 1.0000\n",
      "Epoch 14/50\n",
      "343/343 [==============================] - 0s 892us/step - loss: 2.7069e-06 - accuracy: 1.0000 - val_loss: 2.7852e-06 - val_accuracy: 1.0000\n",
      "Epoch 15/50\n",
      "343/343 [==============================] - 0s 924us/step - loss: 2.1282e-06 - accuracy: 1.0000 - val_loss: 2.2567e-06 - val_accuracy: 1.0000\n",
      "Epoch 16/50\n",
      "343/343 [==============================] - 0s 889us/step - loss: 1.6854e-06 - accuracy: 1.0000 - val_loss: 1.8144e-06 - val_accuracy: 1.0000\n",
      "Epoch 17/50\n",
      "343/343 [==============================] - 0s 915us/step - loss: 1.3408e-06 - accuracy: 1.0000 - val_loss: 1.4603e-06 - val_accuracy: 1.0000\n",
      "Epoch 18/50\n",
      "343/343 [==============================] - 0s 912us/step - loss: 1.0742e-06 - accuracy: 1.0000 - val_loss: 1.1691e-06 - val_accuracy: 1.0000\n",
      "Epoch 19/50\n",
      "343/343 [==============================] - 0s 898us/step - loss: 8.6498e-07 - accuracy: 1.0000 - val_loss: 9.6607e-07 - val_accuracy: 1.0000\n",
      "Epoch 20/50\n",
      "343/343 [==============================] - 0s 904us/step - loss: 6.9909e-07 - accuracy: 1.0000 - val_loss: 8.1473e-07 - val_accuracy: 1.0000\n",
      "Epoch 21/50\n",
      "343/343 [==============================] - 0s 918us/step - loss: 5.6612e-07 - accuracy: 1.0000 - val_loss: 6.4908e-07 - val_accuracy: 1.0000\n",
      "Epoch 22/50\n",
      "343/343 [==============================] - 0s 906us/step - loss: 4.5909e-07 - accuracy: 1.0000 - val_loss: 5.4455e-07 - val_accuracy: 1.0000\n",
      "Epoch 23/50\n",
      "343/343 [==============================] - 0s 909us/step - loss: 3.7321e-07 - accuracy: 1.0000 - val_loss: 4.4382e-07 - val_accuracy: 1.0000\n",
      "Epoch 24/50\n",
      "343/343 [==============================] - 0s 904us/step - loss: 3.0520e-07 - accuracy: 1.0000 - val_loss: 3.7956e-07 - val_accuracy: 1.0000\n",
      "Epoch 25/50\n",
      "343/343 [==============================] - 0s 898us/step - loss: 2.4855e-07 - accuracy: 1.0000 - val_loss: 3.1572e-07 - val_accuracy: 1.0000\n",
      "Epoch 26/50\n",
      "343/343 [==============================] - 0s 901us/step - loss: 2.0301e-07 - accuracy: 1.0000 - val_loss: 2.6614e-07 - val_accuracy: 1.0000\n",
      "Epoch 27/50\n",
      "343/343 [==============================] - 0s 895us/step - loss: 1.6598e-07 - accuracy: 1.0000 - val_loss: 2.1721e-07 - val_accuracy: 1.0000\n",
      "Epoch 28/50\n",
      "343/343 [==============================] - 0s 921us/step - loss: 1.3644e-07 - accuracy: 1.0000 - val_loss: 1.8869e-07 - val_accuracy: 1.0000\n",
      "Epoch 29/50\n",
      "343/343 [==============================] - 0s 901us/step - loss: 1.1224e-07 - accuracy: 1.0000 - val_loss: 1.5956e-07 - val_accuracy: 1.0000\n",
      "Epoch 30/50\n",
      "343/343 [==============================] - 0s 904us/step - loss: 9.2171e-08 - accuracy: 1.0000 - val_loss: 1.3204e-07 - val_accuracy: 1.0000\n",
      "Epoch 31/50\n",
      "343/343 [==============================] - 0s 901us/step - loss: 7.6030e-08 - accuracy: 1.0000 - val_loss: 1.1178e-07 - val_accuracy: 1.0000\n",
      "Epoch 32/50\n",
      "343/343 [==============================] - 0s 886us/step - loss: 6.2721e-08 - accuracy: 1.0000 - val_loss: 9.4255e-08 - val_accuracy: 1.0000\n",
      "Epoch 33/50\n",
      "343/343 [==============================] - 0s 909us/step - loss: 5.1792e-08 - accuracy: 1.0000 - val_loss: 7.7319e-08 - val_accuracy: 1.0000\n",
      "Epoch 34/50\n",
      "343/343 [==============================] - 0s 895us/step - loss: 4.2958e-08 - accuracy: 1.0000 - val_loss: 6.6512e-08 - val_accuracy: 1.0000\n",
      "Epoch 35/50\n",
      "343/343 [==============================] - 0s 895us/step - loss: 3.5551e-08 - accuracy: 1.0000 - val_loss: 5.6192e-08 - val_accuracy: 1.0000\n",
      "Epoch 36/50\n",
      "343/343 [==============================] - 0s 880us/step - loss: 2.9458e-08 - accuracy: 1.0000 - val_loss: 4.9446e-08 - val_accuracy: 1.0000\n",
      "Epoch 37/50\n",
      "343/343 [==============================] - 0s 886us/step - loss: 2.4455e-08 - accuracy: 1.0000 - val_loss: 4.0116e-08 - val_accuracy: 1.0000\n",
      "Epoch 38/50\n",
      "343/343 [==============================] - 0s 901us/step - loss: 2.0412e-08 - accuracy: 1.0000 - val_loss: 3.4362e-08 - val_accuracy: 1.0000\n",
      "Epoch 39/50\n",
      "343/343 [==============================] - 0s 886us/step - loss: 1.7020e-08 - accuracy: 1.0000 - val_loss: 2.9929e-08 - val_accuracy: 1.0000\n",
      "Epoch 40/50\n",
      "343/343 [==============================] - 0s 895us/step - loss: 1.4149e-08 - accuracy: 1.0000 - val_loss: 2.5927e-08 - val_accuracy: 1.0000\n",
      "Epoch 41/50\n",
      "343/343 [==============================] - 0s 930us/step - loss: 1.1833e-08 - accuracy: 1.0000 - val_loss: 2.2970e-08 - val_accuracy: 1.0000\n",
      "Epoch 42/50\n",
      "343/343 [==============================] - 0s 889us/step - loss: 9.8816e-09 - accuracy: 1.0000 - val_loss: 1.9525e-08 - val_accuracy: 1.0000\n",
      "Epoch 43/50\n",
      "343/343 [==============================] - 0s 889us/step - loss: 8.2891e-09 - accuracy: 1.0000 - val_loss: 1.6874e-08 - val_accuracy: 1.0000\n",
      "Epoch 44/50\n",
      "343/343 [==============================] - 0s 971us/step - loss: 6.9615e-09 - accuracy: 1.0000 - val_loss: 1.5337e-08 - val_accuracy: 1.0000\n",
      "Epoch 45/50\n",
      "343/343 [==============================] - 0s 901us/step - loss: 5.8783e-09 - accuracy: 1.0000 - val_loss: 1.3397e-08 - val_accuracy: 1.0000\n",
      "Epoch 46/50\n",
      "343/343 [==============================] - 0s 901us/step - loss: 4.9524e-09 - accuracy: 1.0000 - val_loss: 1.1482e-08 - val_accuracy: 1.0000\n",
      "Epoch 47/50\n",
      "343/343 [==============================] - 0s 918us/step - loss: 4.1964e-09 - accuracy: 1.0000 - val_loss: 9.5903e-09 - val_accuracy: 1.0000\n",
      "Epoch 48/50\n",
      "343/343 [==============================] - 0s 899us/step - loss: 3.5724e-09 - accuracy: 1.0000 - val_loss: 8.7629e-09 - val_accuracy: 1.0000\n",
      "Epoch 49/50\n",
      "343/343 [==============================] - 0s 982us/step - loss: 3.0369e-09 - accuracy: 1.0000 - val_loss: 7.5807e-09 - val_accuracy: 1.0000\n",
      "Epoch 50/50\n",
      "343/343 [==============================] - 0s 1ms/step - loss: 2.5925e-09 - accuracy: 1.0000 - val_loss: 6.7652e-09 - val_accuracy: 1.0000\n"
     ]
    }
   ],
   "source": [
    "# Train the model\n",
    "history = nn.fit(X_train_scaled, y_train, epochs=50, batch_size=64, validation_split=0.2)"
   ]
  },
  {
   "cell_type": "code",
   "execution_count": 148,
   "metadata": {},
   "outputs": [
    {
     "name": "stdout",
     "output_type": "stream",
     "text": [
      "215/215 [==============================] - 0s 589us/step - loss: 0.0041 - accuracy: 0.9997\n",
      "Test Loss: 0.004148793872445822\n",
      "Test Accuracy: 0.9997084736824036\n"
     ]
    }
   ],
   "source": [
    "# Evaluate the model using the test data\n",
    "test_loss, test_accuracy = nn.evaluate(X_test_scaled, y_test)\n",
    "print(\"Test Loss:\", test_loss)\n",
    "print(\"Test Accuracy:\", test_accuracy)"
   ]
  },
  {
   "cell_type": "code",
   "execution_count": 149,
   "metadata": {},
   "outputs": [
    {
     "name": "stderr",
     "output_type": "stream",
     "text": [
      "C:\\Users\\u0880169\\Anaconda3\\lib\\site-packages\\keras\\src\\engine\\training.py:3000: UserWarning: You are saving your model as an HDF5 file via `model.save()`. This file format is considered legacy. We recommend using instead the native Keras format, e.g. `model.save('my_model.keras')`.\n",
      "  saving_api.save_model(\n"
     ]
    }
   ],
   "source": [
    "# Export our model to HDF5 file\n",
    "nn.save('AlphabetSoupCharity_Optimization.h5')"
   ]
  },
  {
   "cell_type": "markdown",
   "metadata": {},
   "source": [
    "# Report"
   ]
  },
  {
   "cell_type": "markdown",
   "metadata": {},
   "source": [
    "1. Overview\n",
    "\n",
    "The purpose of this analysis is to develop a deep learning model using a neural network to classify charity donations as successful or not based on various input features. The goal is to predict whether an organization's funding proposal will be successful, which can be valuable for optimizing fundraising efforts and resource allocation.\n",
    "\n",
    "2. Results\n",
    "\n",
    "What variable(s) are the target(s) for your model?\n",
    "\n",
    "The target variable for the model is 'IS_SUCCESSFUL,' which indicates whether a charity donation was successful (1) or not (0).\n",
    "\n",
    "What variable(s) are the features for your model?\n",
    "\n",
    "The features for the model include various columns like 'STATUS,' 'ASK_AMT,' 'APPLICATION_TYPE,' 'CLASSIFICATION,' 'AFFILIATION,' 'USE_CASE,' 'ORGANIZATION,' 'INCOME_AMT,' and 'SPECIAL_CONSIDERATIONS.'\n",
    "\n",
    "What variable(s) should be removed from the input data because they are neither targets nor features?\n",
    "\n",
    "The 'APPLICATION_TYPE_Other' column was removed from the input data as it was neither a target nor a feature and was likely dropped during data preprocessing.\n",
    "\n",
    "How many neurons, layers, and activation functions did you select for your neural network model, and why?\n",
    "\n",
    "The neural network model consisted of multiple hidden layers. The specific number of neurons, layers, and activation functions were not mentioned in the provided code, so we cannot provide details on these choices.\n",
    "\n",
    "Were you able to achieve the target model performance?\n",
    "\n",
    "The model achieved impressive performance on the test data, with a loss of approximately 0.0041 and an accuracy of about 99.97%. Such high accuracy suggests that the model learned to predict the target variable effectively.\n",
    "\n",
    "What steps did you take in your attempts to increase model performance?\n",
    "\n",
    "The provided results do not show the steps taken to improve model performance. However, the high accuracy achieved indicates that the model performed well on the given dataset.\n",
    "\n",
    "3. Summary\n",
    "\n",
    "The deep learning model demonstrated excellent performance in classifying charity donations as successful or not. It achieved a high accuracy of nearly 100% on the test data, which indicates a good generalization ability of the model.\n"
   ]
  }
 ],
 "metadata": {
  "kernelspec": {
   "display_name": "Python 3 (ipykernel)",
   "language": "python",
   "name": "python3"
  },
  "language_info": {
   "codemirror_mode": {
    "name": "ipython",
    "version": 3
   },
   "file_extension": ".py",
   "mimetype": "text/x-python",
   "name": "python",
   "nbconvert_exporter": "python",
   "pygments_lexer": "ipython3",
   "version": "3.9.13"
  },
  "vscode": {
   "interpreter": {
    "hash": "31f2aee4e71d21fbe5cf8b01ff0e069b9275f58929596ceb00d14d90e3e16cd6"
   }
  }
 },
 "nbformat": 4,
 "nbformat_minor": 4
}
